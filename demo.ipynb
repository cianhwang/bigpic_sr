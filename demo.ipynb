{
  "nbformat": 4,
  "nbformat_minor": 0,
  "metadata": {
    "colab": {
      "provenance": [],
      "authorship_tag": "ABX9TyM3O39px5EZud+0Kocez+N5",
      "include_colab_link": true
    },
    "kernelspec": {
      "name": "python3",
      "display_name": "Python 3"
    },
    "language_info": {
      "name": "python"
    },
    "accelerator": "GPU",
    "gpuClass": "standard"
  },
  "cells": [
    {
      "cell_type": "markdown",
      "metadata": {
        "id": "view-in-github",
        "colab_type": "text"
      },
      "source": [
        "<a href=\"https://colab.research.google.com/github/cianhwang/bigpic_sr/blob/main/demo.ipynb\" target=\"_parent\"><img src=\"https://colab.research.google.com/assets/colab-badge.svg\" alt=\"Open In Colab\"/></a>"
      ]
    },
    {
      "cell_type": "markdown",
      "source": [
        "# Physical Super Resolution (SR) Against Diffraction Blur\n",
        "\n",
        "#### Qian Huang\n",
        "#### 1/12/2023\n",
        "\n",
        "**Motivation**: Fisher information suggests we can go beyond diffraction limit given prior knowledge, which can be effectively learned by neural algorithm on large datasets.\n",
        "\n",
        "**Goal**: develop an neural algorithm to restore images impacted by diffraction blur.\n",
        "\n",
        "**Method**:\n",
        "* Develop a SR neural algorithm that can use SRCNN or EDSR, two classic SR networks, as its backbone for physical SR.\n",
        "* Simulate the camera and develop an associate forward model to generate degraded images from high quality image datasets like DIV2K\n",
        "* Use generated samples to train the network.\n",
        "* Save the network weights that perform best on validation set and use them for future inference.\n"
      ],
      "metadata": {
        "id": "w64JUfhZH6-m"
      }
    },
    {
      "cell_type": "markdown",
      "source": [
        "## Pre-requisite configure"
      ],
      "metadata": {
        "id": "5_8FUuyCIZqL"
      }
    },
    {
      "cell_type": "code",
      "execution_count": 1,
      "metadata": {
        "colab": {
          "base_uri": "https://localhost:8080/"
        },
        "id": "CVeamwKHqFpw",
        "outputId": "92adddca-31e7-4194-e2a0-8af4f1568f4b"
      },
      "outputs": [
        {
          "output_type": "stream",
          "name": "stdout",
          "text": [
            "--2023-01-13 07:48:47--  https://github.com/cianhwang/bigpic_sr/archive/refs/heads/main.zip\n",
            "Resolving github.com (github.com)... 20.205.243.166\n",
            "Connecting to github.com (github.com)|20.205.243.166|:443... connected.\n",
            "HTTP request sent, awaiting response... 302 Found\n",
            "Location: https://codeload.github.com/cianhwang/bigpic_sr/zip/refs/heads/main [following]\n",
            "--2023-01-13 07:48:48--  https://codeload.github.com/cianhwang/bigpic_sr/zip/refs/heads/main\n",
            "Resolving codeload.github.com (codeload.github.com)... 20.205.243.165\n",
            "Connecting to codeload.github.com (codeload.github.com)|20.205.243.165|:443... connected.\n",
            "HTTP request sent, awaiting response... 200 OK\n",
            "Length: unspecified [application/zip]\n",
            "Saving to: ‘main.zip’\n",
            "\n",
            "main.zip                [       <=>          ]   4.33M  3.03MB/s    in 1.4s    \n",
            "\n",
            "2023-01-13 07:48:49 (3.03 MB/s) - ‘main.zip’ saved [4536978]\n",
            "\n"
          ]
        }
      ],
      "source": [
        "! wget https://github.com/cianhwang/bigpic_sr/archive/refs/heads/main.zip\n",
        "! unzip -q main.zip\n",
        "! mv bigpic_sr-main/* ./"
      ]
    },
    {
      "cell_type": "code",
      "source": [
        "! wget http://data.vision.ee.ethz.ch/cvl/DIV2K/DIV2K_train_HR.zip\n",
        "! wget http://data.vision.ee.ethz.ch/cvl/DIV2K/DIV2K_valid_HR.zip\n",
        "! unzip -q DIV2K_train_HR.zip\n",
        "! unzip -q DIV2K_valid_HR.zip"
      ],
      "metadata": {
        "colab": {
          "base_uri": "https://localhost:8080/"
        },
        "id": "RgKmXIJYqbYY",
        "outputId": "92f2d997-fd10-4c33-9bc0-dcf98144c737"
      },
      "execution_count": 2,
      "outputs": [
        {
          "output_type": "stream",
          "name": "stdout",
          "text": [
            "--2023-01-13 07:48:50--  http://data.vision.ee.ethz.ch/cvl/DIV2K/DIV2K_train_HR.zip\n",
            "Resolving data.vision.ee.ethz.ch (data.vision.ee.ethz.ch)... 129.132.52.178, 2001:67c:10ec:36c2::178\n",
            "Connecting to data.vision.ee.ethz.ch (data.vision.ee.ethz.ch)|129.132.52.178|:80... connected.\n",
            "HTTP request sent, awaiting response... 302 Found\n",
            "Location: https://data.vision.ee.ethz.ch/cvl/DIV2K/DIV2K_train_HR.zip [following]\n",
            "--2023-01-13 07:48:50--  https://data.vision.ee.ethz.ch/cvl/DIV2K/DIV2K_train_HR.zip\n",
            "Connecting to data.vision.ee.ethz.ch (data.vision.ee.ethz.ch)|129.132.52.178|:443... connected.\n",
            "HTTP request sent, awaiting response... 200 OK\n",
            "Length: 3530603713 (3.3G) [application/zip]\n",
            "Saving to: ‘DIV2K_train_HR.zip’\n",
            "\n",
            "DIV2K_train_HR.zip  100%[===================>]   3.29G  16.1MB/s    in 3m 53s  \n",
            "\n",
            "2023-01-13 07:52:44 (14.5 MB/s) - ‘DIV2K_train_HR.zip’ saved [3530603713/3530603713]\n",
            "\n",
            "--2023-01-13 07:52:44--  http://data.vision.ee.ethz.ch/cvl/DIV2K/DIV2K_valid_HR.zip\n",
            "Resolving data.vision.ee.ethz.ch (data.vision.ee.ethz.ch)... 129.132.52.178, 2001:67c:10ec:36c2::178\n",
            "Connecting to data.vision.ee.ethz.ch (data.vision.ee.ethz.ch)|129.132.52.178|:80... connected.\n",
            "HTTP request sent, awaiting response... 302 Found\n",
            "Location: https://data.vision.ee.ethz.ch/cvl/DIV2K/DIV2K_valid_HR.zip [following]\n",
            "--2023-01-13 07:52:45--  https://data.vision.ee.ethz.ch/cvl/DIV2K/DIV2K_valid_HR.zip\n",
            "Connecting to data.vision.ee.ethz.ch (data.vision.ee.ethz.ch)|129.132.52.178|:443... connected.\n",
            "HTTP request sent, awaiting response... 200 OK\n",
            "Length: 448993893 (428M) [application/zip]\n",
            "Saving to: ‘DIV2K_valid_HR.zip’\n",
            "\n",
            "DIV2K_valid_HR.zip  100%[===================>] 428.19M  15.5MB/s    in 30s     \n",
            "\n",
            "2023-01-13 07:53:16 (14.3 MB/s) - ‘DIV2K_valid_HR.zip’ saved [448993893/448993893]\n",
            "\n"
          ]
        }
      ]
    },
    {
      "cell_type": "code",
      "source": [
        "! pip install tensorboardX"
      ],
      "metadata": {
        "colab": {
          "base_uri": "https://localhost:8080/"
        },
        "id": "NOA1H71quSR5",
        "outputId": "d5bce781-e0cb-4198-dc65-bdc90c1265d4"
      },
      "execution_count": 3,
      "outputs": [
        {
          "output_type": "stream",
          "name": "stdout",
          "text": [
            "Looking in indexes: https://pypi.org/simple, https://us-python.pkg.dev/colab-wheels/public/simple/\n",
            "Collecting tensorboardX\n",
            "  Downloading tensorboardX-2.5.1-py2.py3-none-any.whl (125 kB)\n",
            "\u001b[2K     \u001b[90m━━━━━━━━━━━━━━━━━━━━━━━━━━━━━━━━━━━━━━\u001b[0m \u001b[32m125.4/125.4 KB\u001b[0m \u001b[31m12.5 MB/s\u001b[0m eta \u001b[36m0:00:00\u001b[0m\n",
            "\u001b[?25hRequirement already satisfied: protobuf<=3.20.1,>=3.8.0 in /usr/local/lib/python3.8/dist-packages (from tensorboardX) (3.19.6)\n",
            "Requirement already satisfied: numpy in /usr/local/lib/python3.8/dist-packages (from tensorboardX) (1.21.6)\n",
            "Installing collected packages: tensorboardX\n",
            "Successfully installed tensorboardX-2.5.1\n"
          ]
        }
      ]
    },
    {
      "cell_type": "markdown",
      "source": [
        "## Train & Validate model\n",
        "\n",
        "Train on DIV2K_train RandomCrop(256) and validate on DIV2K_val_CenterCrop(512)\n",
        "\n",
        "command arguments: \n",
        "\n",
        "- lam: working wavelength in meters\n",
        "- n_photon: the number of photons that brightest pixel received\n",
        "- f-num: F-number of the lens\n",
        "- p: pixel pitch on the sensor in meters"
      ],
      "metadata": {
        "id": "ruSfQGDNIluI"
      }
    },
    {
      "cell_type": "code",
      "source": [
        "! python train.py --train-file DIV2K_train_HR --eval-file DIV2K_valid_HR --outputs-dir outputs_temp --num-epochs 3 --n_photon 1000 --f_num 9 --kernel jinc --lam 0.55e-6 --p 3e-6"
      ],
      "metadata": {
        "colab": {
          "base_uri": "https://localhost:8080/"
        },
        "id": "Djpse_FKq_OW",
        "outputId": "18807464-df50-4e4d-af83-cd8ec39c0296"
      },
      "execution_count": 4,
      "outputs": [
        {
          "output_type": "stream",
          "name": "stdout",
          "text": [
            "[*] Saving outputs to outputs_temp/1000x9xjinc\n",
            "[*] Saving tensorboard logs to runs/1000x9xjinc\n",
            "/content/kernels.py:6: RuntimeWarning: invalid value encountered in true_divide\n",
            "  f = j1(rho)/rho\n",
            "/usr/local/lib/python3.8/dist-packages/torch/utils/data/dataloader.py:554: UserWarning: This DataLoader will create 8 worker processes in total. Our suggested max number of worker in current system is 2, which is smaller than what this DataLoader is going to create. Please be aware that excessive worker creation might get DataLoader running slow or even freeze, lower the worker number to avoid potential slowness/freeze if necessary.\n",
            "  warnings.warn(_create_warning_msg(\n",
            "epoch 1/3: 100% 800/800 [02:01<00:00,  6.57it/s, loss=0.015289]\n",
            "validate: 100% 100/100 [00:31<00:00,  3.22it/s, psnr=27.70, ssim=0.8266]\n",
            "epoch 2/3: 100% 800/800 [01:53<00:00,  7.07it/s, loss=0.001309]\n",
            "validate: 100% 100/100 [00:32<00:00,  3.09it/s, psnr=29.70, ssim=0.8484]\n",
            "epoch 3/3: 100% 800/800 [01:51<00:00,  7.16it/s, loss=0.001009]\n",
            "validate: 100% 100/100 [00:30<00:00,  3.23it/s, psnr=30.26, ssim=0.8599]\n"
          ]
        }
      ]
    },
    {
      "cell_type": "markdown",
      "source": [
        "## Evaluate pretrained model\n",
        "\n",
        "on DIV2K_val_CenterCrop(1024)"
      ],
      "metadata": {
        "id": "3no9NhCHIppr"
      }
    },
    {
      "cell_type": "code",
      "source": [
        "! python eval.py --eval-file DIV2K_valid_HR --model_path outputs/1000x9xjinc --n_photon 1000 --f_num 9 --kernel jinc --lam 0.55e-6 --p 3e-6 --is_pred"
      ],
      "metadata": {
        "colab": {
          "base_uri": "https://localhost:8080/"
        },
        "id": "jR6xvx-5yT2c",
        "outputId": "de01054a-7d65-40cb-d888-d5224242c569"
      },
      "execution_count": 5,
      "outputs": [
        {
          "output_type": "stream",
          "name": "stdout",
          "text": [
            "/content/kernels.py:6: RuntimeWarning: invalid value encountered in true_divide\n",
            "  f = j1(rho)/rho\n",
            "100% 100/100 [02:06<00:00,  1.26s/it, psnr=33.09, ssim=0.9146]\n",
            "1000x9xjinc psnr: 33.09 | ssim: 0.9146\n"
          ]
        }
      ]
    },
    {
      "cell_type": "markdown",
      "source": [
        "## Test pretrained model"
      ],
      "metadata": {
        "id": "TjDkTt7nIzxn"
      }
    },
    {
      "cell_type": "code",
      "source": [
        "! python test.py --weights-file outputs/1000x9xjinc --image-file DIV2K_valid_HR --output-path test/ --n_photon 1000 --f_num 9 --kernel jinc --lam 0.55e-6 --p 3e-6"
      ],
      "metadata": {
        "colab": {
          "base_uri": "https://localhost:8080/"
        },
        "id": "lfjPZ-lE_6sF",
        "outputId": "d64b87b5-a0ec-496f-f0c3-d19aaff41ef3"
      },
      "execution_count": 6,
      "outputs": [
        {
          "output_type": "stream",
          "name": "stdout",
          "text": [
            "/content/kernels.py:6: RuntimeWarning: invalid value encountered in true_divide\n",
            "  f = j1(rho)/rho\n",
            "  3% 3/100 [00:06<03:02,  1.88s/it]small image: 0804 skipped\n",
            "  5% 5/100 [00:09<02:32,  1.60s/it]small image: 0807 skipped\n",
            " 27% 27/100 [00:40<01:42,  1.41s/it]small image: 0830 skipped\n",
            " 48% 48/100 [01:10<01:14,  1.43s/it]small image: 0852 skipped\n",
            " 49% 49/100 [01:11<01:13,  1.44s/it]small image: 0854 skipped\n",
            " 71% 71/100 [01:42<00:41,  1.42s/it]small image: 0877 skipped\n",
            " 74% 74/100 [01:47<00:37,  1.43s/it]small image: 0881 skipped\n",
            " 92% 92/100 [02:12<00:11,  1.39s/it]small image: 0900 skipped\n",
            " 92% 92/100 [02:12<00:11,  1.44s/it]\n"
          ]
        }
      ]
    }
  ]
}